{
 "cells": [
  {
   "cell_type": "markdown",
   "metadata": {},
   "source": [
    "# Object Oriented programming\n",
    "\n",
    "Property\n",
    "\n",
    "Method"
   ]
  },
  {
   "cell_type": "code",
   "execution_count": 1,
   "metadata": {},
   "outputs": [
    {
     "name": "stdout",
     "output_type": "stream",
     "text": [
      "Type string s:<class 'str'>\n",
      "Type float f:<class 'float'>\n",
      "Type integer i:<class 'int'>\n",
      "Type boolean b:<class 'bool'>\n"
     ]
    }
   ],
   "source": [
    "s = \"Hi Mohammad\"\n",
    "f = 5231.75\n",
    "i = 8\n",
    "b = False\n",
    "\n",
    "print(f\"Type string s:{type(s)}\")\n",
    "print(f\"Type float f:{type(f)}\")\n",
    "print(f\"Type integer i:{type(i)}\")\n",
    "print(f\"Type boolean b:{type(b)}\")"
   ]
  },
  {
   "cell_type": "markdown",
   "metadata": {},
   "source": [
    "Everything in Python is an `object`"
   ]
  },
  {
   "cell_type": "code",
   "execution_count": 3,
   "metadata": {},
   "outputs": [
    {
     "ename": "AttributeError",
     "evalue": "'float' object has no attribute 'lower'",
     "output_type": "error",
     "traceback": [
      "\u001b[1;31m---------------------------------------------------------------------------\u001b[0m",
      "\u001b[1;31mAttributeError\u001b[0m                            Traceback (most recent call last)",
      "Cell \u001b[1;32mIn[3], line 3\u001b[0m\n\u001b[0;32m      1\u001b[0m \u001b[38;5;66;03m# what is a method?\u001b[39;00m\n\u001b[0;32m      2\u001b[0m s\u001b[38;5;241m.\u001b[39mlower()\n\u001b[1;32m----> 3\u001b[0m f\u001b[38;5;241m.\u001b[39mlower()\n",
      "\u001b[1;31mAttributeError\u001b[0m: 'float' object has no attribute 'lower'"
     ]
    }
   ],
   "source": [
    "# what is a method?\n",
    "s.lower()\n",
    "f.lower()"
   ]
  },
  {
   "cell_type": "markdown",
   "metadata": {},
   "source": [
    "Package\n",
    "\n",
    "Module (.py files)\n",
    "\n",
    "functions AND variables"
   ]
  },
  {
   "cell_type": "code",
   "execution_count": null,
   "metadata": {},
   "outputs": [],
   "source": [
    "# Example\n",
    "from sklearn import linear_models"
   ]
  },
  {
   "cell_type": "markdown",
   "metadata": {},
   "source": [
    "# Define a class\n",
    "\n",
    "syntax: class <class_name>:\n",
    "\n",
    "    \"\"\"\n",
    "\n",
    "    define functions and variables\n",
    "    \n",
    "    \"\"\""
   ]
  },
  {
   "cell_type": "code",
   "execution_count": 7,
   "metadata": {},
   "outputs": [],
   "source": [
    "class test_class:\n",
    "    pass"
   ]
  },
  {
   "cell_type": "code",
   "execution_count": 10,
   "metadata": {},
   "outputs": [
    {
     "data": {
      "text/plain": [
       "__main__.test_class"
      ]
     },
     "execution_count": 10,
     "metadata": {},
     "output_type": "execute_result"
    }
   ],
   "source": [
    "# Create an object from a class (object = instance)\n",
    "person = test_class()\n",
    "\n",
    "type(person)"
   ]
  },
  {
   "cell_type": "markdown",
   "metadata": {},
   "source": [
    "Use . to access object's properties and methods"
   ]
  },
  {
   "cell_type": "markdown",
   "metadata": {},
   "source": [
    "Manually assign properties to an object"
   ]
  },
  {
   "cell_type": "code",
   "execution_count": 11,
   "metadata": {},
   "outputs": [],
   "source": [
    "person.first_name = \"Mohammad Reza\"\n",
    "person.last_name = \"Alikhani\"\n",
    "person.age = 29"
   ]
  },
  {
   "cell_type": "code",
   "execution_count": 13,
   "metadata": {},
   "outputs": [
    {
     "name": "stdout",
     "output_type": "stream",
     "text": [
      "Mohammad Reza\n",
      "Alikhani\n",
      "29\n"
     ]
    }
   ],
   "source": [
    "print(person.first_name)\n",
    "print(person.last_name)\n",
    "print(person.age)"
   ]
  },
  {
   "cell_type": "markdown",
   "metadata": {},
   "source": [
    "# Methods in class\n",
    "\n",
    "functions in class"
   ]
  },
  {
   "cell_type": "code",
   "execution_count": 14,
   "metadata": {},
   "outputs": [],
   "source": [
    "def male_female(input_name):\n",
    "    if input_name.lower() in [\"Mohammad\", \"Babak\"]:\n",
    "        return \"male\"\n",
    "    else:\n",
    "        return \"female\"\n"
   ]
  },
  {
   "cell_type": "code",
   "execution_count": 15,
   "metadata": {},
   "outputs": [],
   "source": [
    "input_name = input(\"Whats your name?\")"
   ]
  },
  {
   "cell_type": "code",
   "execution_count": 16,
   "metadata": {},
   "outputs": [
    {
     "data": {
      "text/plain": [
       "'sahar'"
      ]
     },
     "execution_count": 16,
     "metadata": {},
     "output_type": "execute_result"
    }
   ],
   "source": [
    "input_name"
   ]
  },
  {
   "cell_type": "code",
   "execution_count": 17,
   "metadata": {},
   "outputs": [
    {
     "data": {
      "text/plain": [
       "'female'"
      ]
     },
     "execution_count": 17,
     "metadata": {},
     "output_type": "execute_result"
    }
   ],
   "source": [
    "male_female(input_name)"
   ]
  },
  {
   "cell_type": "markdown",
   "metadata": {},
   "source": [
    "define a method in class"
   ]
  },
  {
   "cell_type": "code",
   "execution_count": 29,
   "metadata": {},
   "outputs": [],
   "source": [
    "class test_class:\n",
    "    def male_female(self):\n",
    "        \"\"\"\n",
    "        This is a test method\n",
    "        \"\"\"\n",
    "        return \"salam\""
   ]
  },
  {
   "cell_type": "code",
   "execution_count": 30,
   "metadata": {},
   "outputs": [],
   "source": [
    "a = test_class()"
   ]
  },
  {
   "cell_type": "code",
   "execution_count": 31,
   "metadata": {},
   "outputs": [
    {
     "data": {
      "text/plain": [
       "'salam'"
      ]
     },
     "execution_count": 31,
     "metadata": {},
     "output_type": "execute_result"
    }
   ],
   "source": [
    "a.male_female()"
   ]
  },
  {
   "cell_type": "code",
   "execution_count": 38,
   "metadata": {},
   "outputs": [],
   "source": [
    "class financial:\n",
    "\n",
    "    def profit(self, month_name, income, cost):\n",
    "        \"\"\"\n",
    "        This method calculates the profit in each month\n",
    "        salam azizam\n",
    "        \"\"\"\n",
    "        return f\"The profit in month {month_name} is: {income - cost}\" "
   ]
  },
  {
   "cell_type": "code",
   "execution_count": 39,
   "metadata": {},
   "outputs": [
    {
     "data": {
      "text/plain": [
       "__main__.financial"
      ]
     },
     "execution_count": 39,
     "metadata": {},
     "output_type": "execute_result"
    }
   ],
   "source": [
    "month_1 = financial()\n",
    "\n",
    "# check object type\n",
    "type(month_1)"
   ]
  },
  {
   "cell_type": "code",
   "execution_count": 37,
   "metadata": {},
   "outputs": [
    {
     "data": {
      "text/plain": [
       "'The profit in month Farvardin is: 8'"
      ]
     },
     "execution_count": 37,
     "metadata": {},
     "output_type": "execute_result"
    }
   ],
   "source": [
    "month_1.profit(\"Farvardin\", 20, 12)"
   ]
  },
  {
   "cell_type": "markdown",
   "metadata": {},
   "source": [
    "# function `__init__`"
   ]
  },
  {
   "cell_type": "code",
   "execution_count": 40,
   "metadata": {},
   "outputs": [],
   "source": [
    "class financial:\n",
    "    \n",
    "    def __init__(self, month_name, income, cost):\n",
    "        self.month_name = month_name\n",
    "        self.income = income\n",
    "        self.cost = cost\n",
    "\n",
    "\n",
    "    def profit(self):\n",
    "        \"\"\"\n",
    "        This method calculates the profit in each month\n",
    "        salam azizam\n",
    "        \"\"\"\n",
    "        return f\"The profit in month {self.month_name} is: {self.income - self.cost}\" \n",
    "    \n",
    "    def double_profit(self):\n",
    "        \"\"\"\n",
    "        This method calculates double of the profit\n",
    "        \"\"\"\n",
    "        return f\"The Double profit in month {self.month_name} is: {2*(self.income - self.cost)}\" "
   ]
  },
  {
   "cell_type": "code",
   "execution_count": 42,
   "metadata": {},
   "outputs": [],
   "source": [
    "month_2 = financial(month_name=\"Ordibehesht\", income=22, cost=10)"
   ]
  },
  {
   "cell_type": "code",
   "execution_count": 44,
   "metadata": {},
   "outputs": [
    {
     "data": {
      "text/plain": [
       "'The profit in month Ordibehesht is: 12'"
      ]
     },
     "execution_count": 44,
     "metadata": {},
     "output_type": "execute_result"
    }
   ],
   "source": [
    "month_2.profit()"
   ]
  },
  {
   "cell_type": "code",
   "execution_count": 43,
   "metadata": {},
   "outputs": [
    {
     "data": {
      "text/plain": [
       "'The Double profit in month Ordibehesht is: 24'"
      ]
     },
     "execution_count": 43,
     "metadata": {},
     "output_type": "execute_result"
    }
   ],
   "source": [
    "month_2.double_profit()"
   ]
  },
  {
   "cell_type": "markdown",
   "metadata": {},
   "source": [
    "# assert\n",
    "\n",
    "define conditions for arguments"
   ]
  },
  {
   "cell_type": "code",
   "execution_count": 53,
   "metadata": {},
   "outputs": [],
   "source": [
    "class financial:\n",
    "    \n",
    "    def __init__(self, month_name: str, income: int, cost: int):\n",
    "\n",
    "        assert isinstance(month_name, str), \"Month name should be type string, azizam deghat kon\"\n",
    "        \n",
    "        if type(income) == float:\n",
    "            income = int(income)\n",
    "        assert isinstance(income, int), \"Income should be type integer\"\n",
    "        \n",
    "        if type(cost) == float:\n",
    "            cost = int(cost)\n",
    "            print(\"Type was float we cast it to integer\")\n",
    "        assert isinstance(cost, int), \"Cost should be type integer\"\n",
    "\n",
    "        self.month_name = month_name\n",
    "        self.income = income\n",
    "        self.cost = cost\n",
    "\n",
    "\n",
    "\n",
    "    def profit(self):\n",
    "        \"\"\"\n",
    "        This method calculates the profit in each month\n",
    "        salam azizam\n",
    "        \"\"\"\n",
    "        return f\"The profit in month {self.month_name} is: {self.income - self.cost}\" \n",
    "    \n",
    "    def double_profit(self):\n",
    "        \"\"\"\n",
    "        This method calculates double of the profit\n",
    "        \"\"\"\n",
    "        return f\"The Double profit in month {self.month_name} is: {2*(self.income - self.cost)}\" "
   ]
  },
  {
   "cell_type": "code",
   "execution_count": 59,
   "metadata": {},
   "outputs": [],
   "source": [
    "month_3 = financial(\"Khordad\", 10, 8)"
   ]
  },
  {
   "cell_type": "markdown",
   "metadata": {},
   "source": [
    "`__dict__`"
   ]
  },
  {
   "cell_type": "code",
   "execution_count": 55,
   "metadata": {},
   "outputs": [
    {
     "data": {
      "text/plain": [
       "{'month_name': 'Khordad', 'income': 10, 'cost': 8}"
      ]
     },
     "execution_count": 55,
     "metadata": {},
     "output_type": "execute_result"
    }
   ],
   "source": [
    "month_3.__dict__"
   ]
  },
  {
   "cell_type": "code",
   "execution_count": 56,
   "metadata": {},
   "outputs": [
    {
     "data": {
      "text/plain": [
       "'financial'"
      ]
     },
     "execution_count": 56,
     "metadata": {},
     "output_type": "execute_result"
    }
   ],
   "source": [
    "# what is the class of this object?\n",
    "month_3.__class__.__name__"
   ]
  },
  {
   "cell_type": "code",
   "execution_count": 58,
   "metadata": {},
   "outputs": [
    {
     "data": {
      "text/plain": [
       "mappingproxy({'__module__': '__main__',\n",
       "              '__init__': <function __main__.financial.__init__(self, month_name: str, income: int, cost: int)>,\n",
       "              'profit': <function __main__.financial.profit(self)>,\n",
       "              'double_profit': <function __main__.financial.double_profit(self)>,\n",
       "              '__dict__': <attribute '__dict__' of 'financial' objects>,\n",
       "              '__weakref__': <attribute '__weakref__' of 'financial' objects>,\n",
       "              '__doc__': None})"
      ]
     },
     "execution_count": 58,
     "metadata": {},
     "output_type": "execute_result"
    }
   ],
   "source": [
    "# methods and properties of a class\n",
    "financial.__dict__"
   ]
  },
  {
   "cell_type": "markdown",
   "metadata": {},
   "source": [
    "`__repr__`"
   ]
  },
  {
   "cell_type": "code",
   "execution_count": 73,
   "metadata": {},
   "outputs": [],
   "source": [
    "class financial:\n",
    "    \n",
    "    def __init__(self, month_name: str, income: int, cost: int):\n",
    "\n",
    "        assert isinstance(month_name, str), \"Month name should be type string, azizam deghat kon\"\n",
    "        \n",
    "        if type(income) == float:\n",
    "            income = int(income)\n",
    "        assert isinstance(income, int), \"Income should be type integer\"\n",
    "        \n",
    "        if type(cost) == float:\n",
    "            cost = int(cost)\n",
    "            print(\"Type was float we cast it to integer\")\n",
    "        assert isinstance(cost, int), \"Cost should be type integer\"\n",
    "\n",
    "        self.month_name = month_name\n",
    "        self.income = income\n",
    "        self.cost = cost\n",
    "\n",
    "        print (f\"Instance from class: {self.__class__.__name__}\\nmonth name: {self.month_name}\\nincome:{self.income}\\ncost:{self.cost}\")\n",
    "\n",
    "    def profit(self):\n",
    "        \"\"\"\n",
    "        This method calculates the profit in each month\n",
    "        salam azizam\n",
    "        \"\"\"\n",
    "        return f\"The profit in month {self.month_name} is: {self.income - self.cost}\" \n",
    "    \n",
    "    def double_profit(self):\n",
    "        \"\"\"\n",
    "        This method calculates double of the profit\n",
    "        \"\"\"\n",
    "        return f\"The Double profit in month {self.month_name} is: {2*(self.income - self.cost)}\" \n",
    "\n",
    "    def __repr__(self) -> str:\n",
    "        return f\"Instance from class: {self.__class__.__name__}\\nmonth name: {self.month_name}\\nincome:{self.income}\\ncost:{self.cost}\""
   ]
  },
  {
   "cell_type": "code",
   "execution_count": 74,
   "metadata": {},
   "outputs": [
    {
     "name": "stdout",
     "output_type": "stream",
     "text": [
      "Instance from class: financial\n",
      "month name: Tir\n",
      "income:50\n",
      "cost:10\n"
     ]
    }
   ],
   "source": [
    "month_4 = financial(\"Tir\", 50, 10)"
   ]
  },
  {
   "cell_type": "code",
   "execution_count": 72,
   "metadata": {},
   "outputs": [
    {
     "data": {
      "text/plain": [
       "Instance from class: financial\n",
       "month name: Tir\n",
       "income:50\n",
       "cost:10"
      ]
     },
     "execution_count": 72,
     "metadata": {},
     "output_type": "execute_result"
    }
   ],
   "source": [
    "month_4"
   ]
  },
  {
   "cell_type": "markdown",
   "metadata": {},
   "source": [
    "# Inheritance"
   ]
  },
  {
   "cell_type": "code",
   "execution_count": 75,
   "metadata": {},
   "outputs": [],
   "source": [
    "# syntax: class <child class> (<parent class>):\n",
    "\n",
    "class financial_week (financial):\n",
    "    pass"
   ]
  },
  {
   "cell_type": "code",
   "execution_count": 76,
   "metadata": {},
   "outputs": [
    {
     "name": "stdout",
     "output_type": "stream",
     "text": [
      "Instance from class: financial_week\n",
      "month name: Aban\n",
      "income:50\n",
      "cost:40\n"
     ]
    }
   ],
   "source": [
    "week_1_aban = financial_week(\"Aban\", 50, 40)"
   ]
  },
  {
   "cell_type": "code",
   "execution_count": 164,
   "metadata": {},
   "outputs": [],
   "source": [
    "class person:\n",
    "    def __init__ (self, fname: str, lname:str):\n",
    "        self.fname = fname\n",
    "        self.lname = lname\n",
    "\n",
    "    def print_full_name(self):\n",
    "        return(self.fname, self.lname)"
   ]
  },
  {
   "cell_type": "code",
   "execution_count": 79,
   "metadata": {},
   "outputs": [],
   "source": [
    "a = person(\"Mohammad\", \"Alikhani\")"
   ]
  },
  {
   "cell_type": "code",
   "execution_count": 81,
   "metadata": {},
   "outputs": [
    {
     "name": "stdout",
     "output_type": "stream",
     "text": [
      "Mohammad Alikhani\n"
     ]
    }
   ],
   "source": [
    "a.print_full_name()"
   ]
  },
  {
   "cell_type": "code",
   "execution_count": 90,
   "metadata": {},
   "outputs": [
    {
     "ename": "AttributeError",
     "evalue": "'person' object has no attribute 'email'",
     "output_type": "error",
     "traceback": [
      "\u001b[1;31m---------------------------------------------------------------------------\u001b[0m",
      "\u001b[1;31mAttributeError\u001b[0m                            Traceback (most recent call last)",
      "Cell \u001b[1;32mIn[90], line 1\u001b[0m\n\u001b[1;32m----> 1\u001b[0m a\u001b[38;5;241m.\u001b[39memail\n",
      "\u001b[1;31mAttributeError\u001b[0m: 'person' object has no attribute 'email'"
     ]
    }
   ],
   "source": [
    "a.email"
   ]
  },
  {
   "cell_type": "markdown",
   "metadata": {},
   "source": [
    "`define child class`"
   ]
  },
  {
   "cell_type": "code",
   "execution_count": 165,
   "metadata": {},
   "outputs": [],
   "source": [
    "class student(person):\n",
    "    def __init__(self, fname: str, lname: str, student_id: int, email = \"ghb123@gmail\"):\n",
    "        super().__init__(fname, lname)\n",
    "        self.student_id = student_id\n",
    "        self.email = email\n",
    "    \n",
    "    def double_name(self, matn: str):\n",
    "        full_name = super().print_full_name()\n",
    "        return f\"{matn} {full_name}\""
   ]
  },
  {
   "cell_type": "code",
   "execution_count": 166,
   "metadata": {},
   "outputs": [],
   "source": [
    "student_1 = student(\"Mohammad\", \"Alikhani\", 123456)"
   ]
  },
  {
   "cell_type": "code",
   "execution_count": 159,
   "metadata": {},
   "outputs": [
    {
     "name": "stdout",
     "output_type": "stream",
     "text": [
      "Mohammad Alikhani\n"
     ]
    }
   ],
   "source": [
    "student_1.print_full_name()"
   ]
  },
  {
   "cell_type": "code",
   "execution_count": 167,
   "metadata": {},
   "outputs": [
    {
     "data": {
      "text/plain": [
       "\"salam ('Mohammad', 'Alikhani')\""
      ]
     },
     "execution_count": 167,
     "metadata": {},
     "output_type": "execute_result"
    }
   ],
   "source": [
    "student_1.double_name(\"salam\")"
   ]
  },
  {
   "cell_type": "code",
   "execution_count": null,
   "metadata": {},
   "outputs": [],
   "source": []
  },
  {
   "cell_type": "code",
   "execution_count": 97,
   "metadata": {},
   "outputs": [
    {
     "data": {
      "text/plain": [
       "'ghb123@gmail'"
      ]
     },
     "execution_count": 97,
     "metadata": {},
     "output_type": "execute_result"
    }
   ],
   "source": [
    "student_1.email"
   ]
  },
  {
   "cell_type": "markdown",
   "metadata": {},
   "source": [
    "# Example from sklearn"
   ]
  },
  {
   "cell_type": "code",
   "execution_count": 98,
   "metadata": {},
   "outputs": [],
   "source": [
    "from sklearn.linear_model import LinearRegression"
   ]
  },
  {
   "cell_type": "code",
   "execution_count": 99,
   "metadata": {},
   "outputs": [
    {
     "name": "stdout",
     "output_type": "stream",
     "text": [
      "This is my own Linear Regression class\n"
     ]
    }
   ],
   "source": [
    "class MyLinearRegression(LinearRegression):\n",
    "    def __init__(self, fit_intercept= True):\n",
    "        super().__init__(fit_intercept=fit_intercept)\n",
    "\n",
    "    print(f\"This is my own Linear Regression class\")\n",
    "\n",
    "    def predict_custom(self, x_custom):\n",
    "        \"\"\"\n",
    "        Custom prediction method that squares the predicted value.\n",
    "        \"\"\"\n",
    "        predictions = super().predict(x_custom)\n",
    "        squared_predictions = [predictions**2 for i in predictions]\n",
    "        return squared_predictions"
   ]
  },
  {
   "cell_type": "code",
   "execution_count": 100,
   "metadata": {},
   "outputs": [],
   "source": [
    "lr = MyLinearRegression()"
   ]
  },
  {
   "cell_type": "code",
   "execution_count": 102,
   "metadata": {},
   "outputs": [
    {
     "data": {
      "text/plain": [
       "'MyLinearRegression'"
      ]
     },
     "execution_count": 102,
     "metadata": {},
     "output_type": "execute_result"
    }
   ],
   "source": [
    "# what is the class of this object?\n",
    "lr.__class__.__name__"
   ]
  },
  {
   "cell_type": "code",
   "execution_count": 105,
   "metadata": {},
   "outputs": [
    {
     "name": "stdout",
     "output_type": "stream",
     "text": [
      "This value is returned by sklearn: [14. 22.]\n",
      "This value is returned by the function defined by me: [196. 484.]\n"
     ]
    }
   ],
   "source": [
    "X_train = [[1], [2], [2]] # zarib*X1 + zarib2 * X2= Y\n",
    "Y_train = [4 , 5 ,7]\n",
    "\n",
    "lr.fit(X_train, Y_train)\n",
    "\n",
    "x_custom = [[6], [10]]\n",
    "print(f\"This value is returned by sklearn: {lr.predict(x_custom)}\")\n",
    "print(f\"This value is returned by the function defined by me: {lr.predict_custom(x_custom)[0]}\")"
   ]
  }
 ],
 "metadata": {
  "kernelspec": {
   "display_name": "Python 3",
   "language": "python",
   "name": "python3"
  },
  "language_info": {
   "codemirror_mode": {
    "name": "ipython",
    "version": 3
   },
   "file_extension": ".py",
   "mimetype": "text/x-python",
   "name": "python",
   "nbconvert_exporter": "python",
   "pygments_lexer": "ipython3",
   "version": "3.11.5"
  }
 },
 "nbformat": 4,
 "nbformat_minor": 2
}
