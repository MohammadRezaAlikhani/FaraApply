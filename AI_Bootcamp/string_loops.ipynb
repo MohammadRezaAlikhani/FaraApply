{
 "cells": [
  {
   "cell_type": "code",
   "execution_count": 2,
   "metadata": {},
   "outputs": [],
   "source": [
    "# define a string\n",
    "s = \"Hello, World!\""
   ]
  },
  {
   "cell_type": "code",
   "execution_count": 21,
   "metadata": {},
   "outputs": [
    {
     "data": {
      "text/plain": [
       "7"
      ]
     },
     "execution_count": 21,
     "metadata": {},
     "output_type": "execute_result"
    }
   ],
   "source": [
    "# find a sub-string in an string\n",
    "s_lower = s.lower()\n",
    "s_lower.find(\"world\")"
   ]
  },
  {
   "cell_type": "code",
   "execution_count": 12,
   "metadata": {},
   "outputs": [
    {
     "name": "stdout",
     "output_type": "stream",
     "text": [
      "Original string: Hello, World!\n",
      "Upper cased string: HELLO, WORLD!\n",
      "Lower cased string: hello, world!\n"
     ]
    }
   ],
   "source": [
    "# .upper() or .lower()\n",
    "print(f\"Original string: {s}\")\n",
    "print(f\"Upper cased string: {s.upper()}\")\n",
    "print(f\"Lower cased string: {s.lower()}\")"
   ]
  },
  {
   "cell_type": "code",
   "execution_count": 17,
   "metadata": {},
   "outputs": [
    {
     "data": {
      "text/plain": [
       "'Hello'"
      ]
     },
     "execution_count": 17,
     "metadata": {},
     "output_type": "execute_result"
    }
   ],
   "source": [
    "# strings are arrays\n",
    "s[0:5]"
   ]
  },
  {
   "cell_type": "code",
   "execution_count": 26,
   "metadata": {},
   "outputs": [
    {
     "name": "stdout",
     "output_type": "stream",
     "text": [
      "hello, Mr. Fatehi!\n"
     ]
    }
   ],
   "source": [
    "# .replace()\n",
    "# syntax: <variable name> = <variable value)\n",
    "s_lower = s_lower.replace(\"world\", \"Mr. Fatehi\")\n",
    "\n",
    "print(s_lower)"
   ]
  },
  {
   "cell_type": "code",
   "execution_count": 36,
   "metadata": {},
   "outputs": [
    {
     "data": {
      "text/plain": [
       "True"
      ]
     },
     "execution_count": 36,
     "metadata": {},
     "output_type": "execute_result"
    }
   ],
   "source": [
    "# .split()\n",
    "# delimiter\n",
    "random_list = s_lower.split(\",\")"
   ]
  },
  {
   "cell_type": "code",
   "execution_count": 45,
   "metadata": {},
   "outputs": [
    {
     "name": "stdout",
     "output_type": "stream",
     "text": [
      "hello\n",
      "Mr. Fatehi!\n"
     ]
    }
   ],
   "source": [
    "for i in random_list:\n",
    "    print(i.strip())"
   ]
  },
  {
   "cell_type": "code",
   "execution_count": 37,
   "metadata": {},
   "outputs": [
    {
     "name": "stdout",
     "output_type": "stream",
     "text": [
      "hello, Alikhani!\n"
     ]
    }
   ],
   "source": [
    "s_lower = s_lower.replace(\"Mr. Fatehi\", \"Alikhani\")\n",
    "print(s_lower)"
   ]
  },
  {
   "cell_type": "code",
   "execution_count": 39,
   "metadata": {},
   "outputs": [
    {
     "data": {
      "text/plain": [
       "True"
      ]
     },
     "execution_count": 39,
     "metadata": {},
     "output_type": "execute_result"
    }
   ],
   "source": [
    "# check if an specific word is in the string\n",
    "\"alikhani\" in s_lower.lower()"
   ]
  },
  {
   "cell_type": "code",
   "execution_count": 40,
   "metadata": {},
   "outputs": [],
   "source": [
    "username = input(\"Hi, enter your username: \")"
   ]
  },
  {
   "cell_type": "code",
   "execution_count": 50,
   "metadata": {},
   "outputs": [
    {
     "name": "stdout",
     "output_type": "stream",
     "text": [
      "alikhani\n"
     ]
    }
   ],
   "source": [
    "print(username.strip())"
   ]
  },
  {
   "cell_type": "code",
   "execution_count": 52,
   "metadata": {},
   "outputs": [
    {
     "name": "stdout",
     "output_type": "stream",
     "text": [
      " \n"
     ]
    }
   ],
   "source": [
    "print(username[-1])"
   ]
  },
  {
   "cell_type": "code",
   "execution_count": 53,
   "metadata": {},
   "outputs": [
    {
     "data": {
      "text/plain": [
       "True"
      ]
     },
     "execution_count": 53,
     "metadata": {},
     "output_type": "execute_result"
    }
   ],
   "source": [
    "# .startswith()\n",
    "# .endswith()\n",
    "username.strip().endswith(\"alikhani\")"
   ]
  },
  {
   "cell_type": "code",
   "execution_count": 69,
   "metadata": {},
   "outputs": [],
   "source": [
    "# multi line text\n",
    "story = \"\"\"\n",
    "Once upon a time, in a faraway land, there was a brave king named 'Nader'.\n",
    "Nader was famous throughout the kingdome for his courage and bravery.\n",
    "One day, foreign enemy attacked the kingdome.\n",
    "Nader fought back with the enemy's army and not only saved the kingdome, but also conquered the enemy's lands and added them to the kingdom's territory.\n",
    "\"\"\""
   ]
  },
  {
   "cell_type": "code",
   "execution_count": 70,
   "metadata": {},
   "outputs": [
    {
     "name": "stdout",
     "output_type": "stream",
     "text": [
      "\n",
      "Once upon a time, in a faraway land, there was a brave king named 'Nader'.\n",
      "Nader was famous throughout the kingdome for his courage and bravery.\n",
      "One day, foreign enemy attacked the kingdome.\n",
      "Nader fought back with the enemy's army and not only saved the kingdome, but also conquered the enemy's lands and added them to the kingdom's territory.\n",
      "\n"
     ]
    }
   ],
   "source": [
    "print(story)"
   ]
  },
  {
   "cell_type": "code",
   "execution_count": 71,
   "metadata": {},
   "outputs": [
    {
     "name": "stdout",
     "output_type": "stream",
     "text": [
      "The word kingdome, appeared in the text for 3 times.\n",
      "The word kingdome, appeared in the text at the index: 108\n",
      "New text \n",
      "Once upon a time, in a faraway land, there was a brave king named 'Nader'.\n",
      "Nader was famous throughout the Land for his courage and bravery.\n",
      "One day, foreign enemy attacked the Land.\n",
      "Nader fought back with the enemy's army and not only saved the Land, but also conquered the enemy's lands and added them to the kingdom's territory.\n",
      "\n"
     ]
    }
   ],
   "source": [
    "print(f\"The word kingdome, appeared in the text for {story.count('kingdome')} times.\")\n",
    "print(f\"The word kingdome, appeared in the text at the index: {story.find('kingdome')}\")\n",
    "print(f\"New text {story.replace('kingdome','Land')}\")"
   ]
  },
  {
   "cell_type": "markdown",
   "metadata": {},
   "source": [
    "# For loops"
   ]
  },
  {
   "cell_type": "code",
   "execution_count": 93,
   "metadata": {},
   "outputs": [
    {
     "name": "stdout",
     "output_type": "stream",
     "text": [
      "['Korosh', 'Shahrzad', 'Mehrad', 'Ardalan', 'Saman', 'Nika', 'Nazanin', 'Shirin', 'Shayan', 'Babak']\n",
      "10\n"
     ]
    }
   ],
   "source": [
    "# define a list containing employees name\n",
    "employees = [\"Korosh\", \"Shahrzad\", \"Mehrad\", \"Ardalan\", \"Saman\", \"Nika\", \"Nazanin\", \"Shirin\", \"Shayan\", \"Babak\"]\n",
    "print (employees)\n",
    "print(len(employees))"
   ]
  },
  {
   "cell_type": "code",
   "execution_count": 94,
   "metadata": {},
   "outputs": [],
   "source": [
    "# data get from API from biometric device\n",
    "is_present = [True, True, False, True, False, True, True, False, True, False]\n",
    "is_absent = []"
   ]
  },
  {
   "cell_type": "code",
   "execution_count": 95,
   "metadata": {},
   "outputs": [
    {
     "name": "stdout",
     "output_type": "stream",
     "text": [
      "Employee name: Korosh is present.\n",
      "Employee name: Shahrzad is present.\n",
      "Employee name: Mehrad is absent.\n",
      "Employee name: Ardalan is present.\n",
      "Employee name: Saman is absent.\n",
      "Employee name: Nika is present.\n",
      "Employee name: Nazanin is present.\n",
      "Employee name: Shirin is absent.\n",
      "Employee name: Shayan is present.\n",
      "Employee name: Babak is absent.\n"
     ]
    }
   ],
   "source": [
    "# check if the emplyee is present\n",
    "for i in range(len(employees)):\n",
    "    if is_present[i] == True:\n",
    "        print(f\"Employee name: {employees[i]} is present.\")\n",
    "    elif is_present[i] != True:\n",
    "        print(f\"Employee name: {employees[i]} is absent.\")\n",
    "        is_absent.append(employees[i])\n"
   ]
  },
  {
   "cell_type": "code",
   "execution_count": 96,
   "metadata": {},
   "outputs": [
    {
     "data": {
      "text/plain": [
       "['Mehrad', 'Saman', 'Shirin', 'Babak']"
      ]
     },
     "execution_count": 96,
     "metadata": {},
     "output_type": "execute_result"
    }
   ],
   "source": [
    "is_absent"
   ]
  },
  {
   "cell_type": "code",
   "execution_count": 97,
   "metadata": {},
   "outputs": [],
   "source": [
    "# define an emty dictionary\n",
    "employee_presence = {}"
   ]
  },
  {
   "cell_type": "code",
   "execution_count": 100,
   "metadata": {},
   "outputs": [
    {
     "name": "stdout",
     "output_type": "stream",
     "text": [
      "{'Korosh': True, 'Shahrzad': True, 'Mehrad': False, 'Ardalan': True, 'Saman': False, 'Nika': True, 'Nazanin': True, 'Shirin': False, 'Shayan': True, 'Babak': False}\n"
     ]
    }
   ],
   "source": [
    "for i in range(len(employees)):\n",
    "    employee_presence[employees[i]] = is_present[i]\n",
    "\n",
    "print(employee_presence)"
   ]
  },
  {
   "cell_type": "code",
   "execution_count": 105,
   "metadata": {},
   "outputs": [
    {
     "name": "stdout",
     "output_type": "stream",
     "text": [
      "Korosh\n",
      "Shahrzad\n",
      "Mehrad\n",
      "Ardalan\n",
      "Saman\n",
      "Nika\n",
      "Nazanin\n",
      "Shirin\n",
      "Shayan\n",
      "Babak\n"
     ]
    }
   ],
   "source": [
    "for g in employee_presence.keys():\n",
    "    print(g)"
   ]
  },
  {
   "cell_type": "markdown",
   "metadata": {},
   "source": [
    "# While loop"
   ]
  },
  {
   "cell_type": "code",
   "execution_count": 110,
   "metadata": {},
   "outputs": [],
   "source": [
    "correct_pin = '1234'\n",
    "\n",
    "attemps = 0"
   ]
  },
  {
   "cell_type": "code",
   "execution_count": 114,
   "metadata": {},
   "outputs": [
    {
     "name": "stdout",
     "output_type": "stream",
     "text": [
      "Account has been blocked\n"
     ]
    }
   ],
   "source": [
    "while attemps < 3:\n",
    "    entered_pin = input(\"Enter your PIN: \")\n",
    "\n",
    "    if entered_pin == correct_pin:\n",
    "        print(\"Access is granted.\")\n",
    "        break\n",
    "    else:\n",
    "        print(\"Incorrect PIN, try again.\")\n",
    "        attemps = attemps+1\n",
    "\n",
    "\n",
    "if attemps ==3:\n",
    "    print(\"Account has been blocked\")\n",
    "\n",
    "else:\n",
    "    print(\"Sign in successfully\")"
   ]
  },
  {
   "cell_type": "code",
   "execution_count": 118,
   "metadata": {},
   "outputs": [
    {
     "name": "stdout",
     "output_type": "stream",
     "text": [
      "1\n",
      "2\n",
      "3\n",
      "4\n",
      "6\n",
      "7\n",
      "8\n",
      "9\n",
      "10\n",
      "از حلقه خارج شدم\n"
     ]
    }
   ],
   "source": [
    "num = 0\n",
    "\n",
    "while num < 10:\n",
    "    num = num+1\n",
    "\n",
    "    if num ==5:\n",
    "        continue\n",
    "\n",
    "    print(num)\n",
    "\n",
    "print(\"از حلقه خارج شدم\")"
   ]
  }
 ],
 "metadata": {
  "kernelspec": {
   "display_name": "Python 3",
   "language": "python",
   "name": "python3"
  },
  "language_info": {
   "codemirror_mode": {
    "name": "ipython",
    "version": 3
   },
   "file_extension": ".py",
   "mimetype": "text/x-python",
   "name": "python",
   "nbconvert_exporter": "python",
   "pygments_lexer": "ipython3",
   "version": "3.11.5"
  }
 },
 "nbformat": 4,
 "nbformat_minor": 2
}
