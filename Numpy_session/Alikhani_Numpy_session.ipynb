{
 "cells": [
  {
   "cell_type": "markdown",
   "metadata": {},
   "source": [
    "# Numpy session"
   ]
  },
  {
   "cell_type": "code",
   "execution_count": 1,
   "metadata": {},
   "outputs": [],
   "source": [
    "# list\n",
    "random_list = [1 ,2 ,6 , 45]"
   ]
  },
  {
   "cell_type": "code",
   "execution_count": 8,
   "metadata": {},
   "outputs": [
    {
     "name": "stdout",
     "output_type": "stream",
     "text": [
      "[1, 2, 6, 45]\n"
     ]
    }
   ],
   "source": [
    "print(random_list)"
   ]
  },
  {
   "cell_type": "code",
   "execution_count": 10,
   "metadata": {},
   "outputs": [
    {
     "data": {
      "text/plain": [
       "list"
      ]
     },
     "execution_count": 10,
     "metadata": {},
     "output_type": "execute_result"
    }
   ],
   "source": [
    "type(random_list)"
   ]
  },
  {
   "cell_type": "code",
   "execution_count": 1,
   "metadata": {},
   "outputs": [],
   "source": [
    "import numpy as np"
   ]
  },
  {
   "cell_type": "code",
   "execution_count": 21,
   "metadata": {},
   "outputs": [],
   "source": [
    "random_array = np.array([[1 ,2 ,6 , 45],[5 , 8 , 6 , 7],[7, 3,5,8.]])\n",
    "random_array2 = np.array([[1 ,2 ,6 , 45,55],[5 , 8 , 6 , 7,67]])"
   ]
  },
  {
   "cell_type": "code",
   "execution_count": 22,
   "metadata": {},
   "outputs": [
    {
     "name": "stdout",
     "output_type": "stream",
     "text": [
      "[[ 1.  2.  6. 45.]\n",
      " [ 5.  8.  6.  7.]\n",
      " [ 7.  3.  5.  8.]]\n",
      "[[ 1  2  6 45 55]\n",
      " [ 5  8  6  7 67]]\n"
     ]
    }
   ],
   "source": [
    "print(random_array)\n",
    "print(random_array2)"
   ]
  },
  {
   "cell_type": "code",
   "execution_count": 9,
   "metadata": {},
   "outputs": [
    {
     "data": {
      "text/plain": [
       "numpy.ndarray"
      ]
     },
     "execution_count": 9,
     "metadata": {},
     "output_type": "execute_result"
    }
   ],
   "source": [
    "type(random_array)"
   ]
  },
  {
   "cell_type": "code",
   "execution_count": 23,
   "metadata": {},
   "outputs": [
    {
     "data": {
      "text/plain": [
       "2"
      ]
     },
     "execution_count": 23,
     "metadata": {},
     "output_type": "execute_result"
    }
   ],
   "source": [
    "# dimensions\n",
    "random_array2.ndim"
   ]
  },
  {
   "cell_type": "code",
   "execution_count": 27,
   "metadata": {},
   "outputs": [
    {
     "name": "stdout",
     "output_type": "stream",
     "text": [
      "[[ 1.  2.  6. 45.]\n",
      " [ 5.  8.  6.  7.]\n",
      " [ 7.  3.  5.  8.]]\n"
     ]
    }
   ],
   "source": [
    "print(random_array)"
   ]
  },
  {
   "cell_type": "code",
   "execution_count": 26,
   "metadata": {},
   "outputs": [
    {
     "data": {
      "text/plain": [
       "(3, 4)"
      ]
     },
     "execution_count": 26,
     "metadata": {},
     "output_type": "execute_result"
    }
   ],
   "source": [
    "# how many rows how many columns?\n",
    "random_array.shape"
   ]
  },
  {
   "cell_type": "code",
   "execution_count": 35,
   "metadata": {},
   "outputs": [
    {
     "name": "stdout",
     "output_type": "stream",
     "text": [
      "5.0\n"
     ]
    }
   ],
   "source": [
    "# indexing in Numpy\n",
    "\"\"\"\n",
    "    first rows\n",
    "    second columns\n",
    "\"\"\"\n",
    "\n",
    "print(random_array[2,2])"
   ]
  },
  {
   "cell_type": "code",
   "execution_count": 38,
   "metadata": {},
   "outputs": [
    {
     "name": "stdout",
     "output_type": "stream",
     "text": [
      "[[1 2]\n",
      " [8 9]]\n"
     ]
    }
   ],
   "source": [
    "array3 = np.array([[1,2],[8,9]])\n",
    "print(array3)"
   ]
  },
  {
   "cell_type": "code",
   "execution_count": 39,
   "metadata": {},
   "outputs": [
    {
     "data": {
      "text/plain": [
       "2"
      ]
     },
     "execution_count": 39,
     "metadata": {},
     "output_type": "execute_result"
    }
   ],
   "source": [
    "array3.ndim"
   ]
  },
  {
   "cell_type": "code",
   "execution_count": 51,
   "metadata": {},
   "outputs": [],
   "source": [
    "array4 = np.linspace(start=0, stop=50, num=200)"
   ]
  },
  {
   "cell_type": "code",
   "execution_count": 48,
   "metadata": {},
   "outputs": [],
   "source": [
    "import matplotlib.pyplot as plt"
   ]
  },
  {
   "cell_type": "code",
   "execution_count": 52,
   "metadata": {},
   "outputs": [
    {
     "data": {
      "text/plain": [
       "[<matplotlib.lines.Line2D at 0x2281fa61910>]"
      ]
     },
     "execution_count": 52,
     "metadata": {},
     "output_type": "execute_result"
    },
    {
     "data": {
      "image/png": "[encoded data removed]",
      "text/plain": [
       "<Figure size 640x480 with 1 Axes>"
      ]
     },
     "metadata": {},
     "output_type": "display_data"
    }
   ],
   "source": [
    "plt.plot(array4)"
   ]
  },
  {
   "cell_type": "code",
   "execution_count": 45,
   "metadata": {},
   "outputs": [
    {
     "data": {
      "text/plain": [
       "array([ 1.        ,  1.24623116,  1.49246231,  1.73869347,  1.98492462,\n",
       "        2.23115578,  2.47738693,  2.72361809,  2.96984925,  3.2160804 ,\n",
       "        3.46231156,  3.70854271,  3.95477387,  4.20100503,  4.44723618,\n",
       "        4.69346734,  4.93969849,  5.18592965,  5.4321608 ,  5.67839196,\n",
       "        5.92462312,  6.17085427,  6.41708543,  6.66331658,  6.90954774,\n",
       "        7.15577889,  7.40201005,  7.64824121,  7.89447236,  8.14070352,\n",
       "        8.38693467,  8.63316583,  8.87939698,  9.12562814,  9.3718593 ,\n",
       "        9.61809045,  9.86432161, 10.11055276, 10.35678392, 10.60301508,\n",
       "       10.84924623, 11.09547739, 11.34170854, 11.5879397 , 11.83417085,\n",
       "       12.08040201, 12.32663317, 12.57286432, 12.81909548, 13.06532663,\n",
       "       13.31155779, 13.55778894, 13.8040201 , 14.05025126, 14.29648241,\n",
       "       14.54271357, 14.78894472, 15.03517588, 15.28140704, 15.52763819,\n",
       "       15.77386935, 16.0201005 , 16.26633166, 16.51256281, 16.75879397,\n",
       "       17.00502513, 17.25125628, 17.49748744, 17.74371859, 17.98994975,\n",
       "       18.2361809 , 18.48241206, 18.72864322, 18.97487437, 19.22110553,\n",
       "       19.46733668, 19.71356784, 19.95979899, 20.20603015, 20.45226131,\n",
       "       20.69849246, 20.94472362, 21.19095477, 21.43718593, 21.68341709,\n",
       "       21.92964824, 22.1758794 , 22.42211055, 22.66834171, 22.91457286,\n",
       "       23.16080402, 23.40703518, 23.65326633, 23.89949749, 24.14572864,\n",
       "       24.3919598 , 24.63819095, 24.88442211, 25.13065327, 25.37688442,\n",
       "       25.62311558, 25.86934673, 26.11557789, 26.36180905, 26.6080402 ,\n",
       "       26.85427136, 27.10050251, 27.34673367, 27.59296482, 27.83919598,\n",
       "       28.08542714, 28.33165829, 28.57788945, 28.8241206 , 29.07035176,\n",
       "       29.31658291, 29.56281407, 29.80904523, 30.05527638, 30.30150754,\n",
       "       30.54773869, 30.79396985, 31.04020101, 31.28643216, 31.53266332,\n",
       "       31.77889447, 32.02512563, 32.27135678, 32.51758794, 32.7638191 ,\n",
       "       33.01005025, 33.25628141, 33.50251256, 33.74874372, 33.99497487,\n",
       "       34.24120603, 34.48743719, 34.73366834, 34.9798995 , 35.22613065,\n",
       "       35.47236181, 35.71859296, 35.96482412, 36.21105528, 36.45728643,\n",
       "       36.70351759, 36.94974874, 37.1959799 , 37.44221106, 37.68844221,\n",
       "       37.93467337, 38.18090452, 38.42713568, 38.67336683, 38.91959799,\n",
       "       39.16582915, 39.4120603 , 39.65829146, 39.90452261, 40.15075377,\n",
       "       40.39698492, 40.64321608, 40.88944724, 41.13567839, 41.38190955,\n",
       "       41.6281407 , 41.87437186, 42.12060302, 42.36683417, 42.61306533,\n",
       "       42.85929648, 43.10552764, 43.35175879, 43.59798995, 43.84422111,\n",
       "       44.09045226, 44.33668342, 44.58291457, 44.82914573, 45.07537688,\n",
       "       45.32160804, 45.5678392 , 45.81407035, 46.06030151, 46.30653266,\n",
       "       46.55276382, 46.79899497, 47.04522613, 47.29145729, 47.53768844,\n",
       "       47.7839196 , 48.03015075, 48.27638191, 48.52261307, 48.76884422,\n",
       "       49.01507538, 49.26130653, 49.50753769, 49.75376884, 50.        ])"
      ]
     },
     "execution_count": 45,
     "metadata": {},
     "output_type": "execute_result"
    }
   ],
   "source": [
    "array4"
   ]
  },
  {
   "cell_type": "code",
   "execution_count": 64,
   "metadata": {},
   "outputs": [],
   "source": [
    "array4 = np.full((5,3,4), 1)"
   ]
  },
  {
   "cell_type": "code",
   "execution_count": 65,
   "metadata": {},
   "outputs": [
    {
     "data": {
      "text/plain": [
       "3"
      ]
     },
     "execution_count": 65,
     "metadata": {},
     "output_type": "execute_result"
    }
   ],
   "source": [
    "array4.ndim"
   ]
  },
  {
   "cell_type": "code",
   "execution_count": 58,
   "metadata": {},
   "outputs": [
    {
     "data": {
      "text/plain": [
       "array([[0., 0., 0.],\n",
       "       [0., 0., 0.],\n",
       "       [0., 0., 0.],\n",
       "       [0., 0., 0.],\n",
       "       [0., 0., 0.]])"
      ]
     },
     "execution_count": 58,
     "metadata": {},
     "output_type": "execute_result"
    }
   ],
   "source": [
    "np.zeros((5,3))"
   ]
  },
  {
   "cell_type": "code",
   "execution_count": 61,
   "metadata": {},
   "outputs": [
    {
     "data": {
      "text/plain": [
       "array([[1., 1., 1.],\n",
       "       [1., 1., 1.],\n",
       "       [1., 1., 1.],\n",
       "       [1., 1., 1.],\n",
       "       [1., 1., 1.]])"
      ]
     },
     "execution_count": 61,
     "metadata": {},
     "output_type": "execute_result"
    }
   ],
   "source": [
    "np.ones((5,3))"
   ]
  },
  {
   "cell_type": "code",
   "execution_count": 107,
   "metadata": {},
   "outputs": [
    {
     "name": "stdout",
     "output_type": "stream",
     "text": [
      "Matrix A:\n",
      "[[6 6 6 6]\n",
      " [6 6 6 6]]\n",
      "\n",
      "Matrix B:\n",
      "[[2 2]\n",
      " [2 2]\n",
      " [2 2]\n",
      " [2 2]]\n"
     ]
    }
   ],
   "source": [
    "matrixA = np.full((2,4), 6)\n",
    "matrixB = np.full((4,2), 2)\n",
    "\n",
    "print(\"Matrix A:\")\n",
    "print(matrixA)\n",
    "print(\"\\nMatrix B:\")\n",
    "print(matrixB)"
   ]
  },
  {
   "cell_type": "code",
   "execution_count": 79,
   "metadata": {},
   "outputs": [
    {
     "name": "stdout",
     "output_type": "stream",
     "text": [
      "[[3.5 3.5 3.5]\n",
      " [3.5 3.5 3.5]\n",
      " [3.5 3.5 3.5]]\n"
     ]
    }
   ],
   "source": [
    "# adding two matrices\n",
    "matrixC = np.add(matrixA, matrixB)\n",
    "\n",
    "print(matrixC)"
   ]
  },
  {
   "cell_type": "code",
   "execution_count": 90,
   "metadata": {},
   "outputs": [
    {
     "name": "stdout",
     "output_type": "stream",
     "text": [
      "[[3 3 3]]\n"
     ]
    }
   ],
   "source": [
    "# subtracting two matrices\n",
    "matrixD = np.subtract(matrixA, matrixB)\n",
    "\n",
    "print(matrixD)"
   ]
  },
  {
   "cell_type": "code",
   "execution_count": 98,
   "metadata": {},
   "outputs": [
    {
     "name": "stdout",
     "output_type": "stream",
     "text": [
      "[[3. 3. 3.]\n",
      " [3. 3. 3.]]\n"
     ]
    }
   ],
   "source": [
    "# deviding two matrices\n",
    "matrixE = np.divide(matrixA, matrixB)\n",
    "\n",
    "print(matrixE)"
   ]
  },
  {
   "cell_type": "code",
   "execution_count": 108,
   "metadata": {},
   "outputs": [
    {
     "name": "stdout",
     "output_type": "stream",
     "text": [
      "[[48 48]\n",
      " [48 48]]\n"
     ]
    }
   ],
   "source": [
    "# ضرب کردن دو ماتریس در یکدیگر\n",
    "matrixF = np.dot(matrixA, matrixB)\n",
    "\n",
    "print(matrixF)"
   ]
  },
  {
   "cell_type": "code",
   "execution_count": 3,
   "metadata": {},
   "outputs": [
    {
     "data": {
      "text/plain": [
       "array([[2, 2],\n",
       "       [2, 2],\n",
       "       [2, 2]])"
      ]
     },
     "execution_count": 3,
     "metadata": {},
     "output_type": "execute_result"
    }
   ],
   "source": [
    "np.full((3,2),2)"
   ]
  },
  {
   "cell_type": "code",
   "execution_count": 4,
   "metadata": {},
   "outputs": [
    {
     "data": {
      "text/plain": [
       "array([[0.28244675, 0.00761612, 0.8232991 ],\n",
       "       [0.11587805, 0.19851115, 0.05801838]])"
      ]
     },
     "execution_count": 4,
     "metadata": {},
     "output_type": "execute_result"
    }
   ],
   "source": [
    "#random values\n",
    "np.random.rand(2,3)"
   ]
  },
  {
   "cell_type": "code",
   "execution_count": 25,
   "metadata": {},
   "outputs": [],
   "source": [
    "x = np.random.randint(5, 17, size=(1,8))\n",
    "y = np.random.randint(7,20, size=(1,8))"
   ]
  },
  {
   "cell_type": "code",
   "execution_count": 26,
   "metadata": {},
   "outputs": [
    {
     "name": "stdout",
     "output_type": "stream",
     "text": [
      "[[ 8  6  6  9 15 15 12 15]]\n",
      "[[19 15  7 15  9 13 19 12]]\n"
     ]
    }
   ],
   "source": [
    "print(x)\n",
    "print(y)"
   ]
  },
  {
   "cell_type": "code",
   "execution_count": 14,
   "metadata": {},
   "outputs": [],
   "source": [
    "import matplotlib.pyplot as plt"
   ]
  },
  {
   "cell_type": "code",
   "execution_count": 27,
   "metadata": {},
   "outputs": [
    {
     "data": {
      "text/plain": [
       "<matplotlib.collections.PathCollection at 0x233e9b8f250>"
      ]
     },
     "execution_count": 27,
     "metadata": {},
     "output_type": "execute_result"
    },
    {
     "data": {
      "image/png": "[encoded data removed]",
      "text/plain": [
       "<Figure size 640x480 with 1 Axes>"
      ]
     },
     "metadata": {},
     "output_type": "display_data"
    }
   ],
   "source": [
    "plt.scatter(x,y)"
   ]
  },
  {
   "cell_type": "code",
   "execution_count": 28,
   "metadata": {},
   "outputs": [],
   "source": [
    "from PIL import Image"
   ]
  },
  {
   "cell_type": "code",
   "execution_count": 31,
   "metadata": {},
   "outputs": [],
   "source": [
    "image = Image.open(\"baby.jpeg\")"
   ]
  },
  {
   "cell_type": "code",
   "execution_count": 32,
   "metadata": {},
   "outputs": [],
   "source": [
    "image_array = np.asarray(image)"
   ]
  },
  {
   "cell_type": "code",
   "execution_count": 34,
   "metadata": {},
   "outputs": [
    {
     "data": {
      "text/plain": [
       "(960, 1243, 3)"
      ]
     },
     "execution_count": 34,
     "metadata": {},
     "output_type": "execute_result"
    }
   ],
   "source": [
    "image_array.shape"
   ]
  },
  {
   "cell_type": "code",
   "execution_count": 35,
   "metadata": {},
   "outputs": [],
   "source": [
    "new_image = Image.fromarray(image_array)"
   ]
  },
  {
   "cell_type": "code",
   "execution_count": 37,
   "metadata": {},
   "outputs": [],
   "source": [
    "new_image.save(\"new_image.jpeg\")"
   ]
  },
  {
   "cell_type": "markdown",
   "metadata": {},
   "source": [
    "Matrix Equation"
   ]
  },
  {
   "cell_type": "code",
   "execution_count": 44,
   "metadata": {},
   "outputs": [],
   "source": [
    "# A * B = C\n",
    "A = np.random.randint(1,10,size=(2,2))\n",
    "C = np.random.randint(7,13,size=(2,2))"
   ]
  },
  {
   "cell_type": "code",
   "execution_count": 45,
   "metadata": {},
   "outputs": [
    {
     "name": "stdout",
     "output_type": "stream",
     "text": [
      "Matrix A:\n",
      "[[5 6]\n",
      " [4 8]]\n",
      "\n",
      "Matrix C:\n",
      "[[8 7]\n",
      " [7 9]]\n"
     ]
    }
   ],
   "source": [
    "print(\"Matrix A:\")\n",
    "print(A)\n",
    "print(\"\\nMatrix C:\")\n",
    "print(C)"
   ]
  },
  {
   "cell_type": "code",
   "execution_count": 46,
   "metadata": {},
   "outputs": [
    {
     "name": "stdout",
     "output_type": "stream",
     "text": [
      "Matrix A_inv:\n",
      "[[ 0.5    -0.375 ]\n",
      " [-0.25    0.3125]]\n"
     ]
    }
   ],
   "source": [
    "A_inv = np.linalg.inv(A)\n",
    "\n",
    "print(\"Matrix A_inv:\")\n",
    "print(A_inv)"
   ]
  },
  {
   "cell_type": "code",
   "execution_count": 48,
   "metadata": {},
   "outputs": [
    {
     "name": "stdout",
     "output_type": "stream",
     "text": [
      "Matrix B:\n",
      "[[1.375  0.125 ]\n",
      " [0.1875 1.0625]]\n"
     ]
    }
   ],
   "source": [
    "B = np.dot(A_inv, C)\n",
    "\n",
    "print(\"Matrix B:\")\n",
    "print(B)"
   ]
  }
 ],
 "metadata": {
  "kernelspec": {
   "display_name": "Python 3",
   "language": "python",
   "name": "python3"
  },
  "language_info": {
   "codemirror_mode": {
    "name": "ipython",
    "version": 3
   },
   "file_extension": ".py",
   "mimetype": "text/x-python",
   "name": "python",
   "nbconvert_exporter": "python",
   "pygments_lexer": "ipython3",
   "version": "3.11.5"
  }
 },
 "nbformat": 4,
 "nbformat_minor": 2
}
